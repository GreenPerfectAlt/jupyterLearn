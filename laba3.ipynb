{
 "cells": [
  {
   "cell_type": "markdown",
   "metadata": {},
   "source": [
    "# Information technology\n",
    "\n",
    "Trushin Daniil, IS/b-19-1-o"
   ]
  },
  {
   "cell_type": "markdown",
   "metadata": {},
   "source": [
    "## input-output list"
   ]
  },
  {
   "cell_type": "markdown",
   "metadata": {},
   "source": [
    "### Converting strings to a list"
   ]
  },
  {
   "cell_type": "markdown",
   "metadata": {},
   "source": [
    "Select string consist of words devided spaces (may be not one) and simbols end of string."
   ]
  },
  {
   "cell_type": "code",
   "execution_count": 1,
   "metadata": {},
   "outputs": [
    {
     "name": "stdout",
     "output_type": "stream",
     "text": [
      "hello world this is a\n",
      "test\n"
     ]
    }
   ],
   "source": [
    "s = \"hello world this is a\\ntest\"\n",
    "print(s)"
   ]
  },
  {
   "cell_type": "markdown",
   "metadata": {},
   "source": [
    "If we want work with sepate words included on this string than her needed devided on separate words, e.t.c return list consist of word include this string.The split() method can be used for this."
   ]
  },
  {
   "cell_type": "code",
   "execution_count": 2,
   "metadata": {},
   "outputs": [
    {
     "data": {
      "text/plain": [
       "['hello', 'world', 'this', 'is', 'a', 'test']"
      ]
     },
     "execution_count": 2,
     "metadata": {},
     "output_type": "execute_result"
    }
   ],
   "source": [
    "s.split()"
   ]
  },
  {
   "cell_type": "markdown",
   "metadata": {},
   "source": [
    "So, we got that we wanted. Note, in this case as separeter was use space (one ore more) and any space sign including tab sign (we didn't have one)  and line break sign \\n .Separated sign didn't get in resulted list elements.\n",
    "\n",
    "**Important!** Split() method doesn't change string (actually string doesn't change):"
   ]
  },
  {
   "cell_type": "code",
   "execution_count": 2,
   "metadata": {},
   "outputs": [
    {
     "name": "stdout",
     "output_type": "stream",
     "text": [
      "hello world this is a\n",
      "test\n"
     ]
    }
   ],
   "source": [
    "s = \"hello world this is a\\ntest\"\n",
    "s.split()\n",
    "print(s)"
   ]
  },
  {
   "cell_type": "markdown",
   "metadata": {},
   "source": [
    "In above a second  string she doesn't cites a not any effects ,namely you created list and instant forget him, but string didn't changed.If you want will work from a list  has getted in result of use split(), a not just something will admiring and will forgot forever, that need ,for example, save him as any var."
   ]
  },
  {
   "cell_type": "code",
   "execution_count": 3,
   "metadata": {},
   "outputs": [
    {
     "name": "stdout",
     "output_type": "stream",
     "text": [
      "hello\n",
      "world\n",
      "this\n",
      "is\n",
      "a\n",
      "test\n"
     ]
    }
   ],
   "source": [
    "words = s.split()\n",
    "# now result s.split() has saved in var words\n",
    "for word in words:\n",
    "    print(word)"
   ]
  },
  {
   "cell_type": "markdown",
   "metadata": {},
   "source": [
    "Split() have optional param as separator. If he indicated, than string devided on there separator which him gived a param."
   ]
  },
  {
   "cell_type": "code",
   "execution_count": 4,
   "metadata": {},
   "outputs": [
    {
     "data": {
      "text/plain": [
       "['hello world this is a\\ntest']"
      ]
     },
     "execution_count": 4,
     "metadata": {},
     "output_type": "execute_result"
    }
   ],
   "source": [
    "s.split(\"  \")"
   ]
  },
  {
   "cell_type": "markdown",
   "metadata": {},
   "source": [
    "We handed as separator four space and now a string has separeted by them and one space or symbol transit string not percepring as separator.\n",
    "\n",
    "Suppose, we want inputing several numbers via dot and outputting every that him which enlarged  on one.You will may be try this code."
   ]
  },
  {
   "cell_type": "code",
   "execution_count": 6,
   "metadata": {},
   "outputs": [
    {
     "name": "stdout",
     "output_type": "stream",
     "text": [
      "Make input several num, devided by a dot1,2,3,4,-10,0,20,-1\n"
     ]
    },
    {
     "ename": "TypeError",
     "evalue": "can only concatenate str (not \"int\") to str",
     "output_type": "error",
     "traceback": [
      "\u001b[1;31m---------------------------------------------------------------------------\u001b[0m",
      "\u001b[1;31mTypeError\u001b[0m                                 Traceback (most recent call last)",
      "\u001b[1;32m<ipython-input-6-d1d010303416>\u001b[0m in \u001b[0;36m<module>\u001b[1;34m\u001b[0m\n\u001b[0;32m      2\u001b[0m \u001b[0melements\u001b[0m \u001b[1;33m=\u001b[0m \u001b[0ms\u001b[0m\u001b[1;33m.\u001b[0m\u001b[0msplit\u001b[0m\u001b[1;33m(\u001b[0m\u001b[1;34m\",\"\u001b[0m\u001b[1;33m)\u001b[0m\u001b[1;33m\u001b[0m\u001b[1;33m\u001b[0m\u001b[0m\n\u001b[0;32m      3\u001b[0m \u001b[1;32mfor\u001b[0m \u001b[0mn\u001b[0m \u001b[1;32min\u001b[0m \u001b[0melements\u001b[0m\u001b[1;33m:\u001b[0m\u001b[1;33m\u001b[0m\u001b[1;33m\u001b[0m\u001b[0m\n\u001b[1;32m----> 4\u001b[1;33m     \u001b[0mprint\u001b[0m\u001b[1;33m(\u001b[0m\u001b[0mn\u001b[0m\u001b[1;33m+\u001b[0m\u001b[1;36m1\u001b[0m\u001b[1;33m)\u001b[0m\u001b[1;33m\u001b[0m\u001b[1;33m\u001b[0m\u001b[0m\n\u001b[0m",
      "\u001b[1;31mTypeError\u001b[0m: can only concatenate str (not \"int\") to str"
     ]
    }
   ],
   "source": [
    "s = input(\"Make input several num, devided by a dot: \")\n",
    "elements = s.split(\",\")\n",
    "for n in elements:\n",
    "    print(n+1)"
   ]
  },
  {
   "cell_type": "markdown",
   "metadata": {},
   "source": [
    "No surprise, he isn't work,because after devided of  string turns of list, consisting of an strings. What turning this strings on numbers need use int. Generally speaking, have methods, which allow quity and simple turn all elements of list to numbers, but we while let's step for them, because we let process every elements in for individual."
   ]
  },
  {
   "cell_type": "code",
   "execution_count": 9,
   "metadata": {},
   "outputs": [
    {
     "name": "stdout",
     "output_type": "stream",
     "text": [
      "Make input several num, devided by a dot: 1,3,0,-2\n",
      "2\n",
      "4\n",
      "1\n",
      "-1\n"
     ]
    }
   ],
   "source": [
    "s = input(\"Make input several num, devided by a dot: \")\n",
    "elements = s.split(\",\")\n",
    "for n in elements:\n",
    "    n = int(n)\n",
    "    print(n+1)"
   ]
  },
  {
   "cell_type": "markdown",
   "metadata": {},
   "source": [
    "That now all working!\n",
    "\n",
    "**List output in row**\n",
    "\n",
    "Now decide the involse problem, namely have list and we want otput her in some view.For example, we may just print."
   ]
  },
  {
   "cell_type": "code",
   "execution_count": 3,
   "metadata": {},
   "outputs": [
    {
     "name": "stdout",
     "output_type": "stream",
     "text": [
      "['one', 'two', 'three']\n"
     ]
    }
   ],
   "source": [
    "elements = [\"one\",\"two\",\"three\"]\n",
    "print(elements)"
   ]
  },
  {
   "cell_type": "markdown",
   "metadata": {},
   "source": [
    "Here elements of list are concluded in brackets and additionaly every string in quotes. You can printing element by element in cycle for as in above example :"
   ]
  },
  {
   "cell_type": "code",
   "execution_count": 12,
   "metadata": {},
   "outputs": [
    {
     "name": "stdout",
     "output_type": "stream",
     "text": [
      "one\n",
      "two\n",
      "three\n"
     ]
    }
   ],
   "source": [
    "for el in elements:\n",
    "    print(el)"
   ]
  },
  {
   "cell_type": "markdown",
   "metadata": {},
   "source": [
    "That's so he inputing in colum, because print() on default adding  symbol  translation a string \\n in end every inputting string.If we want outputted elements of list somehow other, example in row, but aren't brackets, commas and quotes, than need use other way.\n",
    "\n",
    "In first is use method join()."
   ]
  },
  {
   "cell_type": "code",
   "execution_count": 4,
   "metadata": {},
   "outputs": [
    {
     "name": "stdout",
     "output_type": "stream",
     "text": [
      "one two three\n"
     ]
    }
   ],
   "source": [
    "print(\" \".join(elements))"
   ]
  },
  {
   "cell_type": "code",
   "execution_count": 5,
   "metadata": {},
   "outputs": [
    {
     "name": "stdout",
     "output_type": "stream",
     "text": [
      "one:two:three\n"
     ]
    }
   ],
   "source": [
    "print(\":\".join(elements))"
   ]
  },
  {
   "cell_type": "code",
   "execution_count": 6,
   "metadata": {},
   "outputs": [
    {
     "name": "stdout",
     "output_type": "stream",
     "text": [
      "one----two----three\n"
     ]
    }
   ],
   "source": [
    "print(\"----\".join(elements))"
   ]
  },
  {
   "cell_type": "markdown",
   "metadata": {},
   "source": [
    "This a comfortable method, but he has limit, namely he demand that a list which  he was served to give  on input is consist an rows.If that among his elements is other objects, he crashing."
   ]
  },
  {
   "cell_type": "code",
   "execution_count": 10,
   "metadata": {},
   "outputs": [
    {
     "ename": "TypeError",
     "evalue": "sequence item 0: expected str instance, int found",
     "output_type": "error",
     "traceback": [
      "\u001b[1;31m---------------------------------------------------------------------------\u001b[0m",
      "\u001b[1;31mTypeError\u001b[0m                                 Traceback (most recent call last)",
      "\u001b[1;32m<ipython-input-10-639bcad789c7>\u001b[0m in \u001b[0;36m<module>\u001b[1;34m\u001b[0m\n\u001b[0;32m      1\u001b[0m \u001b[0mnumbers\u001b[0m \u001b[1;33m=\u001b[0m \u001b[1;33m[\u001b[0m\u001b[1;36m6\u001b[0m\u001b[1;33m,\u001b[0m \u001b[1;36m9\u001b[0m\u001b[1;33m,\u001b[0m \u001b[1;36m10\u001b[0m\u001b[1;33m]\u001b[0m\u001b[1;33m\u001b[0m\u001b[1;33m\u001b[0m\u001b[0m\n\u001b[1;32m----> 2\u001b[1;33m \u001b[1;34m\", \"\u001b[0m\u001b[1;33m.\u001b[0m\u001b[0mjoin\u001b[0m\u001b[1;33m(\u001b[0m\u001b[0mnumbers\u001b[0m\u001b[1;33m)\u001b[0m\u001b[1;33m\u001b[0m\u001b[1;33m\u001b[0m\u001b[0m\n\u001b[0m",
      "\u001b[1;31mTypeError\u001b[0m: sequence item 0: expected str instance, int found"
     ]
    }
   ],
   "source": [
    "numbers = [6, 9, 10]\n",
    "\", \".join(numbers)"
   ]
  },
  {
   "cell_type": "markdown",
   "metadata": {},
   "source": [
    "We can get around this problem ( later we will talking about map() and list comprehensions), but right now discuss other an approach of outputting lists consist on func print().\n",
    "\n",
    "Remind, if we to give func print() a list, that he will printing him in square brackets across comma."
   ]
  },
  {
   "cell_type": "code",
   "execution_count": 11,
   "metadata": {},
   "outputs": [
    {
     "name": "stdout",
     "output_type": "stream",
     "text": [
      "[6, 9, 10]\n"
     ]
    }
   ],
   "source": [
    "print(numbers)"
   ]
  },
  {
   "cell_type": "markdown",
   "metadata": {},
   "source": [
    "And if to give separate elements list that he print their haven't brackets and dividing space.(so, any symbol because it is configure with help param sep)"
   ]
  },
  {
   "cell_type": "code",
   "execution_count": 12,
   "metadata": {},
   "outputs": [
    {
     "name": "stdout",
     "output_type": "stream",
     "text": [
      "6 9 10\n"
     ]
    }
   ],
   "source": [
    "print(numbers[0], numbers[1], numbers[2])"
   ]
  },
  {
   "cell_type": "markdown",
   "metadata": {},
   "source": [
    "Row above give that the result, which we wanted, but she will work only that case, when in list have just only three elements, if  more than will print only three or less is error.Fortunately, Python have construction , which let undress list,namely will giving all his elements any func across comma.It is doing is with help  symbol star(*)."
   ]
  },
  {
   "cell_type": "code",
   "execution_count": 13,
   "metadata": {},
   "outputs": [
    {
     "name": "stdout",
     "output_type": "stream",
     "text": [
      "6 9 10\n"
     ]
    }
   ],
   "source": [
    "print(*numbers)"
   ]
  },
  {
   "cell_type": "markdown",
   "metadata": {},
   "source": [
    "Can say that star symbol remove square brackets to around list elements. You can compare."
   ]
  },
  {
   "cell_type": "code",
   "execution_count": 14,
   "metadata": {},
   "outputs": [
    {
     "name": "stdout",
     "output_type": "stream",
     "text": [
      "5 8 9 11 Hello\n"
     ]
    }
   ],
   "source": [
    "print(*[5, 8, 9, 11, \"Hello\"])"
   ]
  },
  {
   "cell_type": "code",
   "execution_count": 15,
   "metadata": {},
   "outputs": [
    {
     "name": "stdout",
     "output_type": "stream",
     "text": [
      "5 8 9 11 Hello\n"
     ]
    }
   ],
   "source": [
    "print(5, 8, 9, 11, \"Hello\")"
   ]
  },
  {
   "cell_type": "markdown",
   "metadata": {},
   "source": [
    "If you want use isn't space, but want use some any separator is will real."
   ]
  },
  {
   "cell_type": "code",
   "execution_count": 16,
   "metadata": {},
   "outputs": [
    {
     "name": "stdout",
     "output_type": "stream",
     "text": [
      "6, 9, 10\n"
     ]
    }
   ],
   "source": [
    "print(*numbers, sep = ', ')"
   ]
  },
  {
   "cell_type": "markdown",
   "metadata": {},
   "source": [
    "**Strings and slices**\n",
    "\n",
    "Strings can lead as lists.Example, can address separate a elements of string( symbol) or doing slices."
   ]
  },
  {
   "cell_type": "code",
   "execution_count": 17,
   "metadata": {},
   "outputs": [],
   "source": [
    "s = \"This is a test\"\n"
   ]
  },
  {
   "cell_type": "code",
   "execution_count": 18,
   "metadata": {},
   "outputs": [
    {
     "data": {
      "text/plain": [
       "'s'"
      ]
     },
     "execution_count": 18,
     "metadata": {},
     "output_type": "execute_result"
    }
   ],
   "source": [
    "s[6]\n"
   ]
  },
  {
   "cell_type": "code",
   "execution_count": 19,
   "metadata": {},
   "outputs": [
    {
     "data": {
      "text/plain": [
       "'i'"
      ]
     },
     "execution_count": 19,
     "metadata": {},
     "output_type": "execute_result"
    }
   ],
   "source": [
    "s[5]\n"
   ]
  },
  {
   "cell_type": "code",
   "execution_count": 20,
   "metadata": {},
   "outputs": [
    {
     "data": {
      "text/plain": [
       "'s is '"
      ]
     },
     "execution_count": 20,
     "metadata": {},
     "output_type": "execute_result"
    }
   ],
   "source": [
    "s[3:8]"
   ]
  },
  {
   "cell_type": "markdown",
   "metadata": {},
   "source": [
    "Later we talk about string (it's several a big history)"
   ]
  },
  {
   "cell_type": "markdown",
   "metadata": {},
   "source": [
    "### Algorithms with cycles"
   ]
  },
  {
   "cell_type": "markdown",
   "metadata": {},
   "source": [
    "Will see example algorithm in which use cycle."
   ]
  },
  {
   "cell_type": "markdown",
   "metadata": {},
   "source": [
    "Remind, how we has finding number Fibonacci in past time."
   ]
  },
  {
   "cell_type": "markdown",
   "metadata": {},
   "source": [
    "At start, we execute initialization - install start values var, which we will need a future.On start, we know first two numbers fibonacci(it's a ones); we will write their in var a and b and in a future we will save in their two a funded numbers fibonacci, which need for find next number."
   ]
  },
  {
   "cell_type": "code",
   "execution_count": 22,
   "metadata": {},
   "outputs": [],
   "source": [
    "# initialization (performed only once at the beginning of the algorithm)\n",
    "a = 1 # first number\n",
    "b = 1 # second number"
   ]
  },
  {
   "cell_type": "markdown",
   "metadata": {},
   "source": [
    "Next we will write code, which make the transition to next number.We will perform him several once, every time to will getting new number Fibonacci."
   ]
  },
  {
   "cell_type": "code",
   "execution_count": 43,
   "metadata": {},
   "outputs": [
    {
     "name": "stdout",
     "output_type": "stream",
     "text": [
      "28657\n"
     ]
    }
   ],
   "source": [
    "c = a + b #нашли следующее число\n",
    "a = b # значение a нам уже не нужно, а вот значение b ещё пригодится\n",
    "b = c # запомнили вычисленное значение\n",
    "print(b)"
   ]
  },
  {
   "cell_type": "markdown",
   "metadata": {},
   "source": [
    "By performed its cell several once, we will getting several a number Fibonacci."
   ]
  },
  {
   "cell_type": "markdown",
   "metadata": {},
   "source": [
    "This method work very well, but if we had needed find 115th number Fibonacci we worn out reboot cell. So that we use cycle \"for\" for this, he will automatically perform a code part calculating of next number so many time that we need. Example, 10:"
   ]
  },
  {
   "cell_type": "code",
   "execution_count": 44,
   "metadata": {},
   "outputs": [
    {
     "name": "stdout",
     "output_type": "stream",
     "text": [
      "0 2\n",
      "1 3\n",
      "2 5\n",
      "3 8\n",
      "4 13\n",
      "5 21\n",
      "6 34\n",
      "7 55\n",
      "8 89\n",
      "9 144\n"
     ]
    }
   ],
   "source": [
    "# initialization (performed only once at the beginning of the algorithm)\n",
    "a = 1 # first number\n",
    "b = 1 # second number\n",
    "for i in range (10):\n",
    "  # loop body: will be executed 10 times\n",
    "  c = a + b\n",
    "  a = b\n",
    "  b = c\n",
    "  print (i, c)"
   ]
  },
  {
   "cell_type": "markdown",
   "metadata": {},
   "source": [
    "Other example, we want that will didn't input finds numbers Fibonacci on screen but will writing they to some list.We little modification above  code, namely instead for command print() need place command  which will add find number of some list.But, that was  where add that list should created later.To beginning he has can be empty that list pointed empty square brackets. "
   ]
  },
  {
   "cell_type": "code",
   "execution_count": 45,
   "metadata": {},
   "outputs": [
    {
     "name": "stdout",
     "output_type": "stream",
     "text": [
      "[2, 3, 5, 8, 13, 21, 34, 55, 89, 144, 233, 377, 610, 987, 1597, 2584, 4181, 6765, 10946, 17711, 28657, 46368, 75025, 121393, 196418]\n"
     ]
    }
   ],
   "source": [
    "a = 1 # first number\n",
    "b = 1 # second number\n",
    "fib = []\n",
    "# created an empty list fib\n",
    "for i in range (25):\n",
    "  c = a + b\n",
    "  a = b\n",
    "  b = c\n",
    "  fib.append (b) # wrote an item to the end of the list fib\n",
    "\n",
    "print (fib)"
   ]
  },
  {
   "cell_type": "markdown",
   "metadata": {},
   "source": [
    "## Check conditions"
   ]
  },
  {
   "cell_type": "markdown",
   "metadata": {},
   "source": [
    "In program progress sometimes demand implement once or the other part of code. Example, if user has inputted aren't such datas which want of him (want positive numbers, but has give negative) so need inputing error and ask about input data again.Solution have of this task dividing on some step, namely ,the first, need checking some condition and later from result this check select which code perform. Let's start so checking conditions."
   ]
  },
  {
   "cell_type": "code",
   "execution_count": 46,
   "metadata": {},
   "outputs": [
    {
     "data": {
      "text/plain": [
       "True"
      ]
     },
     "execution_count": 46,
     "metadata": {},
     "output_type": "execute_result"
    }
   ],
   "source": [
    "6 < 8"
   ]
  },
  {
   "cell_type": "markdown",
   "metadata": {},
   "source": [
    "Here we asked \"Is it true that 6 is less than 8?\" \"Truly so\" - replied Python in its overseas language.The word True that he gave is not just a word for \"truth\", but special boolean value.It is also called \"boolean\" (after one of the founders George Boole's mathematical logic).There are only two types of it: either True or False. There is no third."
   ]
  },
  {
   "cell_type": "code",
   "execution_count": 47,
   "metadata": {},
   "outputs": [
    {
     "data": {
      "text/plain": [
       "False"
      ]
     },
     "execution_count": 47,
     "metadata": {},
     "output_type": "execute_result"
    }
   ],
   "source": [
    "8 > 9"
   ]
  },
  {
   "cell_type": "markdown",
   "metadata": {},
   "source": [
    "The result of the check can be written to a var."
   ]
  },
  {
   "cell_type": "code",
   "execution_count": 49,
   "metadata": {},
   "outputs": [],
   "source": [
    "condition = 6 < 8"
   ]
  },
  {
   "cell_type": "code",
   "execution_count": 50,
   "metadata": {},
   "outputs": [
    {
     "data": {
      "text/plain": [
       "True"
      ]
     },
     "execution_count": 50,
     "metadata": {},
     "output_type": "execute_result"
    }
   ],
   "source": [
    "condition"
   ]
  },
  {
   "cell_type": "markdown",
   "metadata": {},
   "source": [
    "They say that the condition var is now boolean (bool)."
   ]
  },
  {
   "cell_type": "code",
   "execution_count": 51,
   "metadata": {},
   "outputs": [
    {
     "data": {
      "text/plain": [
       "bool"
      ]
     },
     "execution_count": 51,
     "metadata": {},
     "output_type": "execute_result"
    }
   ],
   "source": [
    "type(condition)"
   ]
  },
  {
   "cell_type": "markdown",
   "metadata": {},
   "source": [
    "We can check the equality of two values. Is it true that 7 is 7?"
   ]
  },
  {
   "cell_type": "code",
   "execution_count": 52,
   "metadata": {},
   "outputs": [
    {
     "data": {
      "text/plain": [
       "True"
      ]
     },
     "execution_count": 52,
     "metadata": {},
     "output_type": "execute_result"
    }
   ],
   "source": [
    "7 == 7"
   ]
  },
  {
   "cell_type": "markdown",
   "metadata": {},
   "source": [
    "Please note: here you need to write the equal symbol twice, because one equals sign\n",
    "Is an assignment operation (\"assign what's on the right to what's on the left\"), and the check operation equality is a completely different thing. For example."
   ]
  },
  {
   "cell_type": "code",
   "execution_count": 53,
   "metadata": {},
   "outputs": [],
   "source": [
    "a = 5"
   ]
  },
  {
   "cell_type": "markdown",
   "metadata": {},
   "source": [
    "Put 5 in a. This operation returned nothing."
   ]
  },
  {
   "cell_type": "code",
   "execution_count": 55,
   "metadata": {},
   "outputs": [],
   "source": [
    "a = 7"
   ]
  },
  {
   "cell_type": "markdown",
   "metadata": {},
   "source": [
    "Now we put 7 in a."
   ]
  },
  {
   "cell_type": "code",
   "execution_count": 56,
   "metadata": {},
   "outputs": [
    {
     "data": {
      "text/plain": [
       "False"
      ]
     },
     "execution_count": 56,
     "metadata": {},
     "output_type": "execute_result"
    }
   ],
   "source": [
    "a == 5"
   ]
  },
  {
   "cell_type": "markdown",
   "metadata": {},
   "source": [
    "Now it has been asked whether it is true that a equals five. Got False.\n",
    "\n",
    "I must say that the comparison works in a fairly reasonable way. For example, the number 7 and the number 7.0 are, strictly speaking, different objects (the first is an integer, the second is a float) but it is clear that as numbers they are one and the same object. Therefore, the comparison will return True."
   ]
  },
  {
   "cell_type": "code",
   "execution_count": 57,
   "metadata": {},
   "outputs": [
    {
     "data": {
      "text/plain": [
       "True"
      ]
     },
     "execution_count": 57,
     "metadata": {},
     "output_type": "execute_result"
    }
   ],
   "source": [
    "7 == 7.0\n"
   ]
  },
  {
   "cell_type": "markdown",
   "metadata": {},
   "source": [
    "### Operator If"
   ]
  },
  {
   "cell_type": "code",
   "execution_count": 58,
   "metadata": {},
   "outputs": [
    {
     "name": "stdout",
     "output_type": "stream",
     "text": [
      "Enter a positive number:4\n",
      "You entered 4\n"
     ]
    }
   ],
   "source": [
    "a = int (input (\"Enter a positive number:\"))\n",
    "if a <0:\n",
    "  print (\"Error!\")\n",
    "  print (\"Number is not positive!\")\n",
    "print (\"You entered\", a)"
   ]
  },
  {
   "cell_type": "markdown",
   "metadata": {},
   "source": [
    "There are a few things to pay attention to: firstly, the condition is specified after the if, and afterconditions must be set with a colon (as in loops), then there is a block of commands that\n",
    "are executed if the condition is true (that is, it is True). As in loops, this block commands must be indented. Commands not included in the block (in this case, these are last line) are performed in any case."
   ]
  },
  {
   "cell_type": "markdown",
   "metadata": {},
   "source": [
    "Let's say we want to handle both situations separately: when the condition is met and when it is not performed. To do this, you need to use the else keyword."
   ]
  },
  {
   "cell_type": "code",
   "execution_count": 59,
   "metadata": {},
   "outputs": [
    {
     "name": "stdout",
     "output_type": "stream",
     "text": [
      "Enter a positive number:4\n",
      "How good!\n",
      "You entered a positive number!\n",
      "You entered 4\n"
     ]
    }
   ],
   "source": [
    "a = int (input (\"Enter a positive number:\"))\n",
    "if a <0:\n",
    "  print (\"Error!\")\n",
    "  print (\"Number is not positive!\")\n",
    "else:\n",
    "  print (\"How good!\")\n",
    "  print (\"You entered a positive number!\")\n",
    "print (\"You entered\", a)"
   ]
  },
  {
   "cell_type": "markdown",
   "metadata": {},
   "source": [
    "The if-else construction works as an alternative: either one piece of code is executed (after the if - if the condition is true), or another (after else - if it is not true). Sometimes you need to check several conditions in a row."
   ]
  },
  {
   "cell_type": "code",
   "execution_count": 60,
   "metadata": {},
   "outputs": [
    {
     "name": "stdout",
     "output_type": "stream",
     "text": [
      "Enter some number:4\n",
      "This is a small number\n"
     ]
    }
   ],
   "source": [
    "a = int (input (\"Enter some number:\"))\n",
    "if a> 100:\n",
    "  print (\"This is a very large number\")\n",
    "elif a> 10:\n",
    "  print (\"This is a larger number\")\n",
    "else:\n",
    "  print (\"This is a small number\")"
   ]
  },
  {
   "cell_type": "markdown",
   "metadata": {},
   "source": [
    "The keyword elif is used here, which is the concatenation of else and if. Conditions are checked in turn, starting from the first; as soon as one of the conditions turns out to be true,the corresponding block is executed and the other conditions are not checked."
   ]
  },
  {
   "cell_type": "markdown",
   "metadata": {},
   "source": [
    "### Difficult conditions"
   ]
  },
  {
   "cell_type": "markdown",
   "metadata": {},
   "source": [
    "Let's say we need to check the fulfillment of several conditions. Let's say we want to get a number from 0 to 100 - numbers less than 0 or more than 100 do not suit us. This could be done with a few nested if statements like this."
   ]
  },
  {
   "cell_type": "code",
   "execution_count": 63,
   "metadata": {},
   "outputs": [
    {
     "name": "stdout",
     "output_type": "stream",
     "text": [
      "Please enter a number between 0 and 100:100\n",
      "Thanks, I like your number\n"
     ]
    }
   ],
   "source": [
    "a = int (input (\"Please enter a number between 0 and 100:\"))\n",
    "if a <= 100:\n",
    "    if a >= 0:\n",
    "        print (\"Thanks, I like your number\")\n",
    "    else:\n",
    "        print (\"You are wrong, this is not a number between 0 and 100\")\n",
    "else:\n",
    "    print (\"You are wrong, this is not a number between 0 and 100\")"
   ]
  },
  {
   "cell_type": "markdown",
   "metadata": {},
   "source": [
    "This code is quite cumbersome, the line with the error message had to be copied twice. Not very good. It turns out that you can implement the same functionality in a simpler way."
   ]
  },
  {
   "cell_type": "code",
   "execution_count": 66,
   "metadata": {},
   "outputs": [
    {
     "name": "stdout",
     "output_type": "stream",
     "text": [
      "Please enter a number between 0 and 100:120\n",
      "You are wrong, this is not a number between 0 and 100\n"
     ]
    }
   ],
   "source": [
    "a = int (input (\"Please enter a number between 0 and 100:\"))\n",
    "if a <= 100 and a>= 0:\n",
    "    print (\"Thanks, I like your number\")\n",
    "else:\n",
    "    print (\"You are wrong, this is not a number between 0 and 100\")"
   ]
  },
  {
   "cell_type": "markdown",
   "metadata": {},
   "source": [
    "It uses the and keyword, which denotes a logical AND operation. It does the following: checks the left condition (in this case a <= 100), checks the right condition (a> = 100) and if both of these conditions are true (that is, they are True) , then the result of executing and turns out to be True; if at least one of them is not executed (that is, it has the value False), then the result of executing and is False. Thus, we can check exactly the condition of interest to us"
   ]
  },
  {
   "cell_type": "markdown",
   "metadata": {},
   "source": [
    "Strictly speaking, if the left argument and turns out to be a lie, then the right one is not even calculated: why waste time if it is already clear that you need to return a lie?"
   ]
  },
  {
   "cell_type": "markdown",
   "metadata": {},
   "source": [
    "One could rewrite this code in another way, using logical OR (or):"
   ]
  },
  {
   "cell_type": "code",
   "execution_count": 67,
   "metadata": {},
   "outputs": [
    {
     "name": "stdout",
     "output_type": "stream",
     "text": [
      "Please enter a number between 0 and 100:123\n",
      "You are wrong, this is not a number between 0 and 100\n"
     ]
    }
   ],
   "source": [
    "a = int (input (\"Please enter a number between 0 and 100:\"))\n",
    "if a> 100 or a <0:\n",
    "  print (\"You are wrong, this is not a number between 0 and 100\")\n",
    "else:\n",
    "  print (\"Thanks, I like your number\")"
   ]
  },
  {
   "cell_type": "markdown",
   "metadata": {},
   "source": [
    "Or is true if at least one argument is\n",
    "true. Finally, there is a third logical operator, the negation (not). It has only one argument and returns true if that argument is false, and vice versa."
   ]
  },
  {
   "cell_type": "code",
   "execution_count": 69,
   "metadata": {},
   "outputs": [
    {
     "name": "stdout",
     "output_type": "stream",
     "text": [
      "Please enter a number between 0 and 100:12\n",
      "Thanks, I like your number\n"
     ]
    }
   ],
   "source": [
    "a = int (input (\"Please enter a number between 0 and 100:\"))\n",
    "if not (a <= 100 and a>= 0):\n",
    "  print (\"You are wrong, this is not a number between 0 and 100\")\n",
    "else:\n",
    "  print (\"Thanks, I like your number\")"
   ]
  },
  {
   "cell_type": "markdown",
   "metadata": {},
   "source": [
    "You can check how logical commands work by simply substituting True for arguments\n",
    "or False:"
   ]
  },
  {
   "cell_type": "code",
   "execution_count": 70,
   "metadata": {},
   "outputs": [
    {
     "data": {
      "text/plain": [
       "True"
      ]
     },
     "execution_count": 70,
     "metadata": {},
     "output_type": "execute_result"
    }
   ],
   "source": [
    "True or False"
   ]
  },
  {
   "cell_type": "code",
   "execution_count": 71,
   "metadata": {},
   "outputs": [
    {
     "data": {
      "text/plain": [
       "False"
      ]
     },
     "execution_count": 71,
     "metadata": {},
     "output_type": "execute_result"
    }
   ],
   "source": [
    "False and True"
   ]
  },
  {
   "cell_type": "markdown",
   "metadata": {},
   "source": [
    "To be or not to be?"
   ]
  },
  {
   "cell_type": "code",
   "execution_count": 72,
   "metadata": {},
   "outputs": [
    {
     "data": {
      "text/plain": [
       "True"
      ]
     },
     "execution_count": 72,
     "metadata": {},
     "output_type": "execute_result"
    }
   ],
   "source": [
    "to_be = False\n",
    "to_be or not to_be"
   ]
  },
  {
   "cell_type": "markdown",
   "metadata": {},
   "source": [
    "What happens if to_be is set to True?"
   ]
  },
  {
   "cell_type": "markdown",
   "metadata": {},
   "source": [
    "### Cycle while"
   ]
  },
  {
   "cell_type": "code",
   "execution_count": 73,
   "metadata": {},
   "outputs": [
    {
     "name": "stdout",
     "output_type": "stream",
     "text": [
      "Enter a number between 0 and 100:12\n",
      "Okay\n"
     ]
    }
   ],
   "source": [
    "a = int (input (\"Enter a number between 0 and 100:\"))\n",
    "while a> 100 or a <0:\n",
    "  print (\"Wrong! This is not a number between 0 and 100\")\n",
    "  a = int (input (\"Enter a number between 0 and 100:\"))\n",
    "print (\"Okay\")"
   ]
  },
  {
   "cell_type": "markdown",
   "metadata": {},
   "source": [
    "Another example: password verification."
   ]
  },
  {
   "cell_type": "code",
   "execution_count": 74,
   "metadata": {},
   "outputs": [
    {
     "name": "stdout",
     "output_type": "stream",
     "text": [
      "Please, enter password: asd\n",
      "Access denied\n",
      "Please, enter password: ;ugliugliug\n",
      "Access granted\n"
     ]
    }
   ],
   "source": [
    "correct_passwd = ';ugliugliug'\n",
    "passwd = input(\"Please, enter password: \")\n",
    "while passwd != correct_passwd:\n",
    " print(\"Access denied\")\n",
    " passwd = input(\"Please, enter password: \")\n",
    "print(\"Access granted\")"
   ]
  },
  {
   "cell_type": "markdown",
   "metadata": {},
   "source": [
    "This code is not very smart because we have to write a line with input () twice. Situation,\n",
    "at which we have to copy some lines of code, usually means that\n",
    "design error. You can do this more gracefully with the break command - it\n",
    "allows you to exit the loop. The following example also demonstrates an infinite loop: in theory\n",
    "while True: should be executed as long as True is True, that is, forever. But we'll get out\n",
    "earlier with break."
   ]
  },
  {
   "cell_type": "code",
   "execution_count": null,
   "metadata": {},
   "outputs": [],
   "source": [
    "correct_passwd = ';ugliugliug'\n",
    "while True:\n",
    "    passwd = input(\"Please, enter password: \")\n",
    "    if passwd == correct_passwd:\n",
    "        print(\"Access granted\")\n",
    "        break\n",
    "    else:\n",
    "        print(\"Access denied\")\n"
   ]
  },
  {
   "cell_type": "markdown",
   "metadata": {},
   "source": [
    "The break command can be used to break out of any cycle. Here's an example for a cycle for:"
   ]
  },
  {
   "cell_type": "code",
   "execution_count": 75,
   "metadata": {},
   "outputs": [
    {
     "name": "stdout",
     "output_type": "stream",
     "text": [
      "7\n",
      "9\n",
      "10\n",
      "7\n",
      "Negative number detected!!!!111111odin\n"
     ]
    }
   ],
   "source": [
    "numbers = [6, 8, 9, 6, -7, 9]\n",
    "for i in numbers:\n",
    "    if i<0:\n",
    "        print(\"Negative number detected!!!!111111odin\")\n",
    "        break\n",
    "    print(i+1)"
   ]
  },
  {
   "cell_type": "markdown",
   "metadata": {},
   "source": [
    "### Numbering list items"
   ]
  },
  {
   "cell_type": "markdown",
   "metadata": {},
   "source": [
    "As a small digression, let's discuss the following problem: if you have a list, you need to display its elements\n",
    "and their indices. This problem could be solved like this:"
   ]
  },
  {
   "cell_type": "code",
   "execution_count": 79,
   "metadata": {},
   "outputs": [
    {
     "name": "stdout",
     "output_type": "stream",
     "text": [
      "0 7\n",
      "1 8\n",
      "2 9\n",
      "3 43\n"
     ]
    }
   ],
   "source": [
    "numbers = [7, 8, 9, 43]\n",
    "i = 0 # the index will be stored here\n",
    "for n in numbers:\n",
    "    print (i, n)\n",
    "    i += 1\n",
    "  # this line is equivalent to i = i + 1"
   ]
  },
  {
   "cell_type": "markdown",
   "metadata": {},
   "source": [
    "Not the most elegant solution - you have to introduce some kind of variable i, initialize it before\n",
    "entry into the cycle and do not forget to add one to it inside the cycle.\n",
    "Another variant:"
   ]
  },
  {
   "cell_type": "code",
   "execution_count": 80,
   "metadata": {},
   "outputs": [
    {
     "name": "stdout",
     "output_type": "stream",
     "text": [
      "0 7\n",
      "1 8\n",
      "2 9\n",
      "3 43\n"
     ]
    }
   ],
   "source": [
    "numbers = [7, 8, 9, 43]\n",
    "for i in range(len(numbers)):\n",
    "    print (i, numbers[i])"
   ]
  },
  {
   "cell_type": "markdown",
   "metadata": {},
   "source": [
    "It is also not the height of grace: here we have to write numbers [i] every time and in general\n",
    "clarity suffers: looking at the for loop it is not clear that we are going to iterate over the elements of the list\n",
    "numbers.\n",
    "\n",
    "The correct Python approach looks like this:"
   ]
  },
  {
   "cell_type": "code",
   "execution_count": 81,
   "metadata": {},
   "outputs": [
    {
     "name": "stdout",
     "output_type": "stream",
     "text": [
      "2 7\n",
      "3 8\n",
      "4 9\n",
      "5 43\n"
     ]
    }
   ],
   "source": [
    "numbers = [7, 8, 9, 43]\n",
    "for i, n in enumerate(numbers, 2):\n",
    "    print(i,n)\n"
   ]
  },
  {
   "cell_type": "markdown",
   "metadata": {},
   "source": [
    "What happened wrong. The main magic lies in the enumerate () command. Let's see how she is\n",
    "works:"
   ]
  },
  {
   "cell_type": "code",
   "execution_count": 82,
   "metadata": {},
   "outputs": [],
   "source": [
    "enum = list(enumerate(numbers))"
   ]
  },
  {
   "cell_type": "code",
   "execution_count": 83,
   "metadata": {},
   "outputs": [
    {
     "data": {
      "text/plain": [
       "[(0, 7), (1, 8), (2, 9), (3, 43)]"
      ]
     },
     "execution_count": 83,
     "metadata": {},
     "output_type": "execute_result"
    }
   ],
   "source": [
    "enum"
   ]
  },
  {
   "cell_type": "markdown",
   "metadata": {},
   "source": [
    "As a result of executing enumerate, a piece is returned that behaves like a list,\n",
    "whose elements are pairs of numbers (in fact, these are tuples, tuple, that is, immutable\n",
    "lists). In each pair, the first number is the index and the second is the element of the original list.\n",
    "Further, when executing the for loop, the list assignment mechanism is used. He works\n",
    "So"
   ]
  },
  {
   "cell_type": "code",
   "execution_count": 84,
   "metadata": {},
   "outputs": [],
   "source": [
    "a, b = (7, 9)"
   ]
  },
  {
   "cell_type": "code",
   "execution_count": 85,
   "metadata": {},
   "outputs": [
    {
     "name": "stdout",
     "output_type": "stream",
     "text": [
      "7\n",
      "9\n"
     ]
    }
   ],
   "source": [
    "print(a)\n",
    "print(b)"
   ]
  },
  {
   "cell_type": "markdown",
   "metadata": {},
   "source": [
    "If on the left side of the equal sign there are several variables separated by commas, and in\n",
    "right - some object behaving like a list, and the number of its elements is equal to the number\n",
    "variables, then the assignment is element-wise: the first element of the list into the first variable,\n",
    "second to second, etc."
   ]
  },
  {
   "cell_type": "code",
   "execution_count": 87,
   "metadata": {},
   "outputs": [
    {
     "name": "stdout",
     "output_type": "stream",
     "text": [
      "3\n"
     ]
    }
   ],
   "source": [
    "a, b, c = (1, 2, 3)\n",
    "print(c)\n"
   ]
  },
  {
   "cell_type": "markdown",
   "metadata": {},
   "source": [
    "Now notice that in the for loop we have two\n",
    "variables (separated by commas). What happens when we get into the loop for the first time? for will take\n",
    "first element from enumerate (numbers). These are a couple of numbers:"
   ]
  },
  {
   "cell_type": "code",
   "execution_count": 88,
   "metadata": {},
   "outputs": [
    {
     "data": {
      "text/plain": [
       "(0, 7)"
      ]
     },
     "execution_count": 88,
     "metadata": {},
     "output_type": "execute_result"
    }
   ],
   "source": [
    "enum[0]\n"
   ]
  },
  {
   "cell_type": "markdown",
   "metadata": {},
   "source": [
    "Now he will equate this pair of numbers to a pair of variables: i and n:"
   ]
  },
  {
   "cell_type": "code",
   "execution_count": 89,
   "metadata": {},
   "outputs": [],
   "source": [
    "i, n = enum[0]"
   ]
  },
  {
   "cell_type": "markdown",
   "metadata": {},
   "source": [
    "Now i contains 0 (the index of the first element numbers, and in n - the very first element numbers. And\n",
    "so on, at each step i will contain the corresponding index, and n will contain the corresponding\n",
    "number.At the same time, the result is much more elegant than the previous ones: there is no need to somehow\n",
    "clearly describe what is happening with i, and the meaning of what is happening is clear when looking at the line with for.\n",
    "That's it for today."
   ]
  },
  {
   "cell_type": "code",
   "execution_count": null,
   "metadata": {},
   "outputs": [],
   "source": []
  },
  {
   "cell_type": "code",
   "execution_count": null,
   "metadata": {},
   "outputs": [],
   "source": []
  }
 ],
 "metadata": {
  "kernelspec": {
   "display_name": "Python 3",
   "language": "python",
   "name": "python3"
  },
  "language_info": {
   "codemirror_mode": {
    "name": "ipython",
    "version": 3
   },
   "file_extension": ".py",
   "mimetype": "text/x-python",
   "name": "python",
   "nbconvert_exporter": "python",
   "pygments_lexer": "ipython3",
   "version": "3.8.6"
  }
 },
 "nbformat": 4,
 "nbformat_minor": 4
}
