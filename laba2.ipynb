{
 "cells": [
  {
   "cell_type": "markdown",
   "metadata": {},
   "source": [
    "### lab work 2\n",
    "Trushin Daniil Andreevich\n",
    "IS/b-19-1-o\n",
    "29.09.2021"
   ]
  },
  {
   "cell_type": "markdown",
   "metadata": {},
   "source": [
    "## Programming on Python\n",
    "\n",
    "### Lists and operations they\n",
    "\n",
    "Lists it's a data structure, which contains immediately much elements.  "
   ]
  },
  {
   "cell_type": "code",
   "execution_count": 11,
   "metadata": {},
   "outputs": [],
   "source": [
    "numbers = [4,8,9,2,6]"
   ]
  },
  {
   "cell_type": "code",
   "execution_count": 5,
   "metadata": {},
   "outputs": [
    {
     "data": {
      "text/plain": [
       "[4, 8, 9, 2, 6]"
      ]
     },
     "execution_count": 5,
     "metadata": {},
     "output_type": "execute_result"
    }
   ],
   "source": [
    "numbers"
   ]
  },
  {
   "cell_type": "markdown",
   "metadata": {},
   "source": [
    "In lists will may be store not only numbers.Example,let's creating list from strings."
   ]
  },
  {
   "cell_type": "code",
   "execution_count": 8,
   "metadata": {},
   "outputs": [],
   "source": [
    "strings = [\"Hello\", \"World\", \"Test\"]"
   ]
  },
  {
   "cell_type": "markdown",
   "metadata": {},
   "source": [
    "In lists may be store different data type.Example,strings,integers,float numbers."
   ]
  },
  {
   "cell_type": "code",
   "execution_count": 10,
   "metadata": {},
   "outputs": [],
   "source": [
    "mixed_list = [\"Hello\",6,7.8]"
   ]
  },
  {
   "cell_type": "markdown",
   "metadata": {},
   "source": [
    "You may be contact at separate elements list and work they as usually elements.So that select element need point to her position."
   ]
  },
  {
   "cell_type": "code",
   "execution_count": 12,
   "metadata": {},
   "outputs": [
    {
     "name": "stdout",
     "output_type": "stream",
     "text": [
      "[4, 8, 9, 2, 6]\n",
      "8\n"
     ]
    }
   ],
   "source": [
    "print(numbers)\n",
    "print(numbers[1])"
   ]
  },
  {
   "cell_type": "markdown",
   "metadata": {},
   "source": [
    "**Numeration start at ziro!**\n",
    "In fact, this rule having to rational justify.\n",
    "If in list have element different type they do not interfere with each other in any way.\n",
    "\n",
    "Example, available in list strings does not convert other elements this list to strings.\n",
    "\n",
    "It's concern only usually lists python. Later we will be pass arrays numpy where not all as this."
   ]
  },
  {
   "cell_type": "code",
   "execution_count": 13,
   "metadata": {},
   "outputs": [
    {
     "name": "stdout",
     "output_type": "stream",
     "text": [
      "['Hello', 6, 7.8]\n",
      "11.8\n"
     ]
    }
   ],
   "source": [
    "print(mixed_list)\n",
    "print(mixed_list[2]+4)"
   ]
  },
  {
   "cell_type": "markdown",
   "metadata": {},
   "source": [
    "Elements of list may be change as value usually var."
   ]
  },
  {
   "cell_type": "code",
   "execution_count": 14,
   "metadata": {},
   "outputs": [
    {
     "data": {
      "text/plain": [
       "[4, 222, 9, 2, 6]"
      ]
     },
     "execution_count": 14,
     "metadata": {},
     "output_type": "execute_result"
    }
   ],
   "source": [
    "numbers[1]=222\n",
    "numbers"
   ]
  },
  {
   "cell_type": "markdown",
   "metadata": {},
   "source": [
    "Lists of Python have realiseds on standard massives c language and have they properties in terms of performance: often contact element at her index have difficult o(1), that is aren't massive operation.\n",
    "\n",
    "So that will find out length lists, may be use func len."
   ]
  },
  {
   "cell_type": "code",
   "execution_count": 15,
   "metadata": {},
   "outputs": [
    {
     "data": {
      "text/plain": [
       "5"
      ]
     },
     "execution_count": 15,
     "metadata": {},
     "output_type": "execute_result"
    }
   ],
   "source": [
    "len(numbers)"
   ]
  },
  {
   "cell_type": "markdown",
   "metadata": {},
   "source": [
    "Note, that it's not index last element a exactly count of elements. If you want get a last element you can get it at index len(numbers)-1.In a Python can be easier get as elements list if reading with end. "
   ]
  },
  {
   "cell_type": "code",
   "execution_count": 17,
   "metadata": {},
   "outputs": [
    {
     "data": {
      "text/plain": [
       "5"
      ]
     },
     "execution_count": 17,
     "metadata": {},
     "output_type": "execute_result"
    }
   ],
   "source": [
    "numbers = [4,8,2,5]\n",
    "numbers[-1]"
   ]
  },
  {
   "cell_type": "code",
   "execution_count": 18,
   "metadata": {},
   "outputs": [
    {
     "data": {
      "text/plain": [
       "2"
      ]
     },
     "execution_count": 18,
     "metadata": {},
     "output_type": "execute_result"
    }
   ],
   "source": [
    "numbers[-2]"
   ]
  },
  {
   "cell_type": "markdown",
   "metadata": {},
   "source": [
    "But if you try get at element with nonvital index, you getting error."
   ]
  },
  {
   "cell_type": "code",
   "execution_count": 19,
   "metadata": {},
   "outputs": [
    {
     "ename": "IndexError",
     "evalue": "list assignment index out of range",
     "output_type": "error",
     "traceback": [
      "\u001b[1;31m---------------------------------------------------------------------------\u001b[0m",
      "\u001b[1;31mIndexError\u001b[0m                                Traceback (most recent call last)",
      "\u001b[1;32m<ipython-input-19-0c9a177b335e>\u001b[0m in \u001b[0;36m<module>\u001b[1;34m\u001b[0m\n\u001b[1;32m----> 1\u001b[1;33m \u001b[0mnumbers\u001b[0m\u001b[1;33m[\u001b[0m\u001b[1;36m5\u001b[0m\u001b[1;33m]\u001b[0m \u001b[1;33m=\u001b[0m \u001b[1;36m100\u001b[0m\u001b[1;33m\u001b[0m\u001b[1;33m\u001b[0m\u001b[0m\n\u001b[0m",
      "\u001b[1;31mIndexError\u001b[0m: list assignment index out of range"
     ]
    }
   ],
   "source": [
    "numbers[5] = 100"
   ]
  },
  {
   "cell_type": "markdown",
   "metadata": {},
   "source": [
    "But adding elements to end is real."
   ]
  },
  {
   "cell_type": "code",
   "execution_count": null,
   "metadata": {},
   "outputs": [],
   "source": [
    "numbers = [7, 6, 2]\n",
    "print(numbers)\n",
    "numbers.append(777)\n",
    "print(numbers)"
   ]
  },
  {
   "cell_type": "markdown",
   "metadata": {},
   "source": [
    "The word append is a so-called \"method\" - a function that \"belongs\" to some object (in this case, a number object of type list (list) and doing something with that object.Numbers, like any list, have many methods.You can type the numbers. , press tab.(after the dot) , and get a list of available methods. You can also type help(list) or even help(numbers) (in our case) and get a brief description of these methods. For example, in this way you could to find out that lists have an extend method in addition to append "
   ]
  },
  {
   "cell_type": "code",
   "execution_count": 20,
   "metadata": {},
   "outputs": [
    {
     "name": "stdout",
     "output_type": "stream",
     "text": [
      "[4, 8, 2, 5]\n",
      "[4, 8, 2, 5, 3, 7, 5]\n"
     ]
    }
   ],
   "source": [
    "print(numbers)\n",
    "numbers.extend([3, 7, 5])\n",
    "print(numbers)"
   ]
  },
  {
   "cell_type": "markdown",
   "metadata": {},
   "source": [
    "The extend method allows multiple items to be assigned to a list at once. It receives a list to be assigned as input: note the square brackets inside the round brackets when calling this method - they create a new list which is passed to the extend function.The append and extend methods change the list to which they are applied.Sometimes you have to create a new list instead, by combining (concatenating!) the other two.  This can also be done.\n"
   ]
  },
  {
   "cell_type": "code",
   "execution_count": 21,
   "metadata": {},
   "outputs": [
    {
     "name": "stdout",
     "output_type": "stream",
     "text": [
      "[5, 8, 2, 1, 9, 4]\n"
     ]
    }
   ],
   "source": [
    "first_list = [5, 8, 2]\n",
    "second_list = [1, 9, 4]\n",
    "new_list = first_list + second_list\n",
    "print(new_list)\n"
   ]
  },
  {
   "cell_type": "markdown",
   "metadata": {},
   "source": [
    "The plus sign in this case is not element-by-element addition (as you might think), but concatenation.  The first_list and second_list are the same."
   ]
  },
  {
   "cell_type": "code",
   "execution_count": 22,
   "metadata": {},
   "outputs": [
    {
     "name": "stdout",
     "output_type": "stream",
     "text": [
      "[5, 8, 2]\n",
      "[1, 9, 4]\n"
     ]
    }
   ],
   "source": [
    "print(first_list)\n",
    "print(second_list)\n"
   ]
  },
  {
   "cell_type": "markdown",
   "metadata": {},
   "source": [
    "You may have been tempted to use addition instead of extension."
   ]
  },
  {
   "cell_type": "code",
   "execution_count": 23,
   "metadata": {},
   "outputs": [
    {
     "name": "stdout",
     "output_type": "stream",
     "text": [
      "[4, 8, 2, 5, 3, 7, 5]\n",
      "[4, 8, 2, 5, 3, 7, 5, 2, 6, 9]\n"
     ]
    }
   ],
   "source": [
    "print(numbers)\n",
    "# do not do like this\n",
    "numbers = numbers + [2, 6, 9]\n",
    "print(numbers)\n"
   ]
  },
  {
   "cell_type": "markdown",
   "metadata": {},
   "source": [
    "Generally speaking, this code worked, but it should not work: the concatenation operation creates a new list, then copies all the elements from numbers into it , then attributes the elements from the second list to them, after which the old numbers are forgotten.If there were a lot of items in the list, it would take a long time to copy them into a new list.  It is much quicker quicker to add the items to an existing list."
   ]
  },
  {
   "cell_type": "markdown",
   "metadata": {},
   "source": [
    "### Slices"
   ]
  },
  {
   "cell_type": "markdown",
   "metadata": {},
   "source": [
    "Sometimes we don't need the whole list, but a slice of it.  You can get it by putting two numbers in square brackets, not just one, separated by a colon."
   ]
  },
  {
   "cell_type": "code",
   "execution_count": 24,
   "metadata": {},
   "outputs": [
    {
     "name": "stdout",
     "output_type": "stream",
     "text": [
      "[4, 8, 2, 5, 3, 7, 5, 2, 6, 9]\n",
      "[8, 2, 5]\n"
     ]
    }
   ],
   "source": [
    "print(numbers)\n",
    "print(numbers[1:4])\n"
   ]
  },
  {
   "cell_type": "markdown",
   "metadata": {},
   "source": [
    "This is called a slice (often said in Russian) .  Note that the left end of the slice is included (the element with index 1 is a six) and the right end is not.  This will always be the case.  This convention proves to be For example, it is convenient to count the number of elements in the slice: subtract the left end from the right one subtract the left one (in this case 4 - 1 = 3). If the left item is not specified, it is considered as the beginning of the list, and if the right item is specified, it is considered as the end.\n"
   ]
  },
  {
   "cell_type": "code",
   "execution_count": 25,
   "metadata": {},
   "outputs": [
    {
     "name": "stdout",
     "output_type": "stream",
     "text": [
      "[2, 6, 9]\n",
      "[4, 8, 2, 5, 3, 7, 5]\n"
     ]
    }
   ],
   "source": [
    "print(numbers[7:])\n",
    "print(numbers[:7])\n"
   ]
  },
  {
   "cell_type": "markdown",
   "metadata": {},
   "source": [
    "The following is always true: list numbers is the same as numbers[:k]+numbers[k:] , where k is\n",
    "any index.\n",
    "\n",
    "The cuts can be used for assignment.\n"
   ]
  },
  {
   "cell_type": "code",
   "execution_count": 26,
   "metadata": {},
   "outputs": [
    {
     "name": "stdout",
     "output_type": "stream",
     "text": [
      "[8, 9]\n",
      "[5, 55, 77, 10]\n"
     ]
    }
   ],
   "source": [
    "numbers = [5, 8, 9, 10]\n",
    "print(numbers[1:3])\n",
    "numbers[1:3]= [55, 77]\n",
    "print(numbers)\n"
   ]
  },
  {
   "cell_type": "markdown",
   "metadata": {},
   "source": [
    "It is not necessary that the list we assign to the slice has the same length as the slice.  We can We can assign a longer list (then the original list expands), and we can assign a shorter list (then it narrows) . it will be shorter) .  You can use slices to insert multiple items into a list.  (For a single element, this can be done with the insert method .)"
   ]
  },
  {
   "cell_type": "code",
   "execution_count": 31,
   "metadata": {},
   "outputs": [
    {
     "name": "stdout",
     "output_type": "stream",
     "text": [
      "[]\n",
      "[6, 99, 77, 55, 8, 9]\n"
     ]
    }
   ],
   "source": [
    "numbers = [6, 8, 9]\n",
    "print(numbers[1:1])\n",
    "# это пустой срез\n",
    "numbers[1:1] = [99, 77, 55]\n",
    "print(numbers)\n"
   ]
  },
  {
   "cell_type": "markdown",
   "metadata": {},
   "source": [
    "To insert any elements inside a list, you must make room for it space by pushing all subsequent items forward.  Python will do this automatically, but it will take a while.  So this should be avoided if possible, especially if you working with large arrays of data.  If you really need to write something at the beginning and end of a list, look at the two-way queue (deque) in the \n",
    "collections .\n"
   ]
  },
  {
   "cell_type": "markdown",
   "metadata": {},
   "source": [
    "You can delete list items (and anything else) or slices using the del command ."
   ]
  },
  {
   "cell_type": "code",
   "execution_count": 32,
   "metadata": {},
   "outputs": [
    {
     "name": "stdout",
     "output_type": "stream",
     "text": [
      "[6, 7, 9, 12, 3]\n",
      "[9, 12, 3]\n"
     ]
    }
   ],
   "source": [
    "numbers = [6, 7, 9, 12, 8, 3]\n",
    "del(numbers[4]) # удалим 8\n",
    "print(numbers)\n",
    "del(numbers[0:2])\n",
    "print(numbers)"
   ]
  },
  {
   "cell_type": "markdown",
   "metadata": {},
   "source": [
    "## **Assigning and copying lists**\n",
    "Lists can be treacherous.  Until you understand the contents of this section, your programs will behave in unpredictable ways.\n",
    "behave in unpredictable ways, and you'll spend a lot of time debugging them.  So now would be\n",
    "is a good time to focus.\n"
   ]
  },
  {
   "cell_type": "code",
   "execution_count": 34,
   "metadata": {},
   "outputs": [],
   "source": [
    "first_list = [5, 8, 9, 'Hello']\n",
    "second_list = first_list\n"
   ]
  },
  {
   "cell_type": "code",
   "execution_count": 35,
   "metadata": {},
   "outputs": [
    {
     "data": {
      "text/plain": [
       "[5, 8, 9, 'Hello']"
      ]
     },
     "execution_count": 35,
     "metadata": {},
     "output_type": "execute_result"
    }
   ],
   "source": [
    "first_list\n"
   ]
  },
  {
   "cell_type": "code",
   "execution_count": 36,
   "metadata": {},
   "outputs": [
    {
     "data": {
      "text/plain": [
       "[5, 8, 9, 'Hello']"
      ]
     },
     "execution_count": 36,
     "metadata": {},
     "output_type": "execute_result"
    }
   ],
   "source": [
    "second_list\n"
   ]
  },
  {
   "cell_type": "markdown",
   "metadata": {},
   "source": [
    "So we have created two identical lists.  Let's change one of them now:\n",
    "\n"
   ]
  },
  {
   "cell_type": "code",
   "execution_count": 37,
   "metadata": {},
   "outputs": [
    {
     "data": {
      "text/plain": [
       "[777, 8, 9, 'Hello']"
      ]
     },
     "execution_count": 37,
     "metadata": {},
     "output_type": "execute_result"
    }
   ],
   "source": [
    "second_list[0] = 777\n",
    "second_list\n"
   ]
  },
  {
   "cell_type": "code",
   "execution_count": 38,
   "metadata": {},
   "outputs": [
    {
     "data": {
      "text/plain": [
       "[777, 8, 9, 'Hello']"
      ]
     },
     "execution_count": 38,
     "metadata": {},
     "output_type": "execute_result"
    }
   ],
   "source": [
    "first_list\n"
   ]
  },
  {
   "cell_type": "markdown",
   "metadata": {},
   "source": [
    "The first_list does not store the list itself, but a pointer (link) to it.  When we assign the value of first_list to a new variable second_list, we are not copying the list, we are only copying the pointer.That is, second_list simply became a different name for the same list as firt_list .  Therefore, changing the items in second_list will change first_list , and vice versa.\n",
    "\n",
    "To understand what's going on in detail, let's see what's happening to our code line by line.  You can use Python Tutor (http://pythontutor.com/) to visualize code execution.  (You can use this site to debug\n",
    "your programs).\n",
    "\n"
   ]
  },
  {
   "cell_type": "code",
   "execution_count": 1,
   "metadata": {},
   "outputs": [],
   "source": [
    "%load_ext tutormagic\n"
   ]
  },
  {
   "cell_type": "code",
   "execution_count": 2,
   "metadata": {},
   "outputs": [
    {
     "name": "stderr",
     "output_type": "stream",
     "text": [
      "c:\\program files\\python38\\lib\\site-packages\\ipykernel\\ipkernel.py:283: DeprecationWarning: `should_run_async` will not call `transform_cell` automatically in the future. Please pass the result to `transformed_cell` argument and any exception that happen during thetransform in `preprocessing_exc_tuple` in IPython 7.17 and above.\n",
      "  and should_run_async(code)\n"
     ]
    },
    {
     "data": {
      "text/html": [
       "\n",
       "        <iframe\n",
       "            width=\"100%\"\n",
       "            height=\"350\"\n",
       "            src=\"http://pythontutor.com/iframe-embed.html#code=first_list%20%3D%20%5B5%2C%208%2C%209%2C%20%27Hello%27%5D%0Asecond_list%20%3D%20first_list%0Asecond_list%5B0%5D%20%3D%20777%0A&origin=opt-frontend.js&cumulative=false&heapPrimitives=false&textReferences=false&curInstr=0&&verticalStack=false&py=3&rawInputLstJSON=%5B%5D&codeDivWidth=50%25&codeDivHeight=100%25\"\n",
       "            frameborder=\"0\"\n",
       "            allowfullscreen\n",
       "        ></iframe>\n",
       "        "
      ],
      "text/plain": [
       "<IPython.lib.display.IFrame at 0x4defe80>"
      ]
     },
     "metadata": {},
     "output_type": "display_data"
    }
   ],
   "source": [
    "%%tutor --lang python3 # магия\n",
    "first_list = [5, 8, 9, 'Hello']\n",
    "second_list = first_list\n",
    "second_list[0] = 777\n"
   ]
  },
  {
   "cell_type": "markdown",
   "metadata": {},
   "source": [
    "If we really want to create a new list, i.e. copy an existing list, we should use the copy() method "
   ]
  },
  {
   "cell_type": "code",
   "execution_count": 3,
   "metadata": {},
   "outputs": [
    {
     "name": "stdout",
     "output_type": "stream",
     "text": [
      "[6, 9, 2, 5]\n",
      "[100, 9, 2, 5]\n",
      "[6, 9, 2, 5]\n"
     ]
    },
    {
     "name": "stderr",
     "output_type": "stream",
     "text": [
      "c:\\program files\\python38\\lib\\site-packages\\ipykernel\\ipkernel.py:283: DeprecationWarning: `should_run_async` will not call `transform_cell` automatically in the future. Please pass the result to `transformed_cell` argument and any exception that happen during thetransform in `preprocessing_exc_tuple` in IPython 7.17 and above.\n",
      "  and should_run_async(code)\n"
     ]
    }
   ],
   "source": [
    "first_list = [6, 9, 2, 5]\n",
    "third_list = first_list.copy()\n",
    "print(third_list)\n",
    "third_list[0] = 100\n",
    "print(third_list)\n",
    "print(first_list)\n"
   ]
  },
  {
   "cell_type": "markdown",
   "metadata": {},
   "source": [
    "As you can see, first_list and third_list now behave independently.  This code can also be visualize.\n",
    "\n",
    "You may also come across this syntax for copying lists:\n",
    "\n"
   ]
  },
  {
   "cell_type": "code",
   "execution_count": 4,
   "metadata": {},
   "outputs": [
    {
     "name": "stderr",
     "output_type": "stream",
     "text": [
      "c:\\program files\\python38\\lib\\site-packages\\ipykernel\\ipkernel.py:283: DeprecationWarning: `should_run_async` will not call `transform_cell` automatically in the future. Please pass the result to `transformed_cell` argument and any exception that happen during thetransform in `preprocessing_exc_tuple` in IPython 7.17 and above.\n",
      "  and should_run_async(code)\n"
     ]
    }
   ],
   "source": [
    "first_list = [6, 9, 2, 5]\n",
    "other_list = first_list[:]\n"
   ]
  },
  {
   "cell_type": "markdown",
   "metadata": {},
   "source": [
    "### Cycle for"
   ]
  },
  {
   "cell_type": "code",
   "execution_count": 5,
   "metadata": {},
   "outputs": [
    {
     "name": "stdout",
     "output_type": "stream",
     "text": [
      "5\n",
      "10\n",
      "2\n",
      "6\n",
      "Вот и всё\n",
      "[4, 9, 1, 5]\n"
     ]
    },
    {
     "name": "stderr",
     "output_type": "stream",
     "text": [
      "c:\\program files\\python38\\lib\\site-packages\\ipykernel\\ipkernel.py:283: DeprecationWarning: `should_run_async` will not call `transform_cell` automatically in the future. Please pass the result to `transformed_cell` argument and any exception that happen during thetransform in `preprocessing_exc_tuple` in IPython 7.17 and above.\n",
      "  and should_run_async(code)\n"
     ]
    }
   ],
   "source": [
    "numbers = [4, 9, 1, 5]\n",
    "for x in numbers:\n",
    "    y = x + 1\n",
    "    print(y)\n",
    "print(\"Вот и всё\")\n",
    "print(numbers)\n"
   ]
  },
  {
   "cell_type": "markdown",
   "metadata": {},
   "source": [
    "The indentation marks the body of the loop, which in this case contains two commands.  In other words, the code\n",
    "above is equivalent to this code:\n",
    "You can use Python Tutor to visualise this process.\n"
   ]
  },
  {
   "cell_type": "code",
   "execution_count": null,
   "metadata": {},
   "outputs": [],
   "source": [
    "%%tutor --lang python3\n",
    "numbers = [4, 9, 1, 5]\n",
    "for x in numbers:\n",
    "    y = x + 1\n",
    "    print(y)\n",
    "print(\"Вот и всё\")\n",
    "print(numbers)"
   ]
  },
  {
   "cell_type": "markdown",
   "metadata": {},
   "source": [
    "Sometimes we don't have any specific list, but just need to execute some code several times, and we don't know beforehand how many times.  The range() object is used to solve this problem.\n"
   ]
  },
  {
   "cell_type": "code",
   "execution_count": 8,
   "metadata": {},
   "outputs": [
    {
     "name": "stdout",
     "output_type": "stream",
     "text": [
      "Hello, i = 0\n",
      "Hello, i = 1\n",
      "Hello, i = 2\n",
      "Hello, i = 3\n",
      "Hello, i = 4\n"
     ]
    },
    {
     "name": "stderr",
     "output_type": "stream",
     "text": [
      "c:\\program files\\python38\\lib\\site-packages\\ipykernel\\ipkernel.py:283: DeprecationWarning: `should_run_async` will not call `transform_cell` automatically in the future. Please pass the result to `transformed_cell` argument and any exception that happen during thetransform in `preprocessing_exc_tuple` in IPython 7.17 and above.\n",
      "  and should_run_async(code)\n"
     ]
    }
   ],
   "source": [
    "for i in range(5):\n",
    "    print(\"Hello, i =\", i)\n"
   ]
  },
  {
   "cell_type": "markdown",
   "metadata": {},
   "source": [
    "range(n) behaves like a list containing integers from 0 to n-1 (again, the last element is not included!) .  There are exactly n elements in it.  You can also use range with two arguments: specify the beginning and the end of the range: range(3,9) .  You can even turn a range into a real list with the list command :\n"
   ]
  },
  {
   "cell_type": "code",
   "execution_count": 6,
   "metadata": {},
   "outputs": [
    {
     "name": "stderr",
     "output_type": "stream",
     "text": [
      "c:\\program files\\python38\\lib\\site-packages\\ipykernel\\ipkernel.py:283: DeprecationWarning: `should_run_async` will not call `transform_cell` automatically in the future. Please pass the result to `transformed_cell` argument and any exception that happen during thetransform in `preprocessing_exc_tuple` in IPython 7.17 and above.\n",
      "  and should_run_async(code)\n"
     ]
    },
    {
     "data": {
      "text/plain": [
       "[0, 1, 2, 3, 4]"
      ]
     },
     "execution_count": 6,
     "metadata": {},
     "output_type": "execute_result"
    }
   ],
   "source": [
    "list(range(5))"
   ]
  },
  {
   "cell_type": "code",
   "execution_count": 7,
   "metadata": {},
   "outputs": [
    {
     "name": "stderr",
     "output_type": "stream",
     "text": [
      "c:\\program files\\python38\\lib\\site-packages\\ipykernel\\ipkernel.py:283: DeprecationWarning: `should_run_async` will not call `transform_cell` automatically in the future. Please pass the result to `transformed_cell` argument and any exception that happen during thetransform in `preprocessing_exc_tuple` in IPython 7.17 and above.\n",
      "  and should_run_async(code)\n"
     ]
    },
    {
     "data": {
      "text/plain": [
       "[3, 4, 5, 6, 7, 8]"
      ]
     },
     "execution_count": 7,
     "metadata": {},
     "output_type": "execute_result"
    }
   ],
   "source": [
    "list(range(3,9))"
   ]
  },
  {
   "cell_type": "code",
   "execution_count": null,
   "metadata": {},
   "outputs": [],
   "source": []
  }
 ],
 "metadata": {
  "kernelspec": {
   "display_name": "Python 3",
   "language": "python",
   "name": "python3"
  },
  "language_info": {
   "codemirror_mode": {
    "name": "ipython",
    "version": 3
   },
   "file_extension": ".py",
   "mimetype": "text/x-python",
   "name": "python",
   "nbconvert_exporter": "python",
   "pygments_lexer": "ipython3",
   "version": "3.8.6"
  }
 },
 "nbformat": 4,
 "nbformat_minor": 4
}
